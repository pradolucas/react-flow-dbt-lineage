{
 "cells": [
  {
   "cell_type": "code",
   "execution_count": null,
   "id": "234e35fe",
   "metadata": {},
   "outputs": [],
   "source": [
    "from sqlglot.optimizer.optimizer import optimize\n",
    "from sqlglot.optimizer.eliminate_subqueries import eliminate_subqueries\n",
    "import json\n",
    "import sqlglot"
   ]
  },
  {
   "cell_type": "code",
   "execution_count": null,
   "id": "b49c1e30",
   "metadata": {},
   "outputs": [],
   "source": [
    "sql = \"\"\"\n",
    "SELECT (re.payload ->> 'customer_id')::INTEGER AS customer_id, row_to_json((SELECT e.* FROM (SELECT re.event_id, re.payload ->> 'device_type' AS device_type) AS e)) AS event_data, re.payload ->> 'event_name' AS event_type, row_to_json(re.*) AS raw_event_json FROM my_project.raw.raw_events AS re   \n",
    "\n",
    "schema_map = {'my_project.raw.raw_customers': 'source.my_project.raw.raw_customers', 'my_project.raw.raw_events': 'source.my_project.raw.raw_events', 'my_project.staging.stg_customers': 'model.my_project.stg_customers', 'my_project.staging.stg_events': 'model.my_project.stg_events', 'my_project.analytics.customers': 'model.my_project.customers', 'my_project.analytics.customer_summary': 'model.my_project.customer_summary'}\n"
   ]
  },
  {
   "cell_type": "code",
   "execution_count": null,
   "id": "800093f1",
   "metadata": {},
   "outputs": [],
   "source": [
    "parsed_sql = sqlglot.parse_one(sql, read=postgres)\n",
    "qualified_sql = parsed_sql.qualify(schema=schema_map, dialect=postgres, quote_identifiers=False)\n",
    "sql_query = optimize(qualified_sql)"
   ]
  },
  {
   "cell_type": "code",
   "execution_count": null,
   "id": "96034232",
   "metadata": {},
   "outputs": [],
   "source": [
    "sql_query = sql_query.sql()"
   ]
  },
  {
   "cell_type": "code",
   "execution_count": null,
   "id": "4b24b981",
   "metadata": {},
   "outputs": [],
   "source": [
    "from IPython.display import display, Code\n",
    "\n",
    "formatted_sql = sqlglot.transpile(sql_query, pretty=True)[0]\n",
    "display(Code(formatted_sql, language=sql))\n"
   ]
  },
  {
   "cell_type": "code",
   "execution_count": null,
   "id": "942e33a3",
   "metadata": {},
   "outputs": [],
   "source": [
    "## PRINT QUERY\n",
    "\n",
    "s = 'WITH e AS (SELECT re.event_id\" AS \"event_id\", JSON_EXTRACT_SCALAR(\"re\".\"payload\", \\'$.device_type\\') AS \"device_type\") SELECT CAST((JSON_EXTRACT_SCALAR(\"re\".\"payload\", \\'$.customer_id\\')) AS INT) AS \"customer_id\", ROW_TO_JSON((SELECT \"e\".\"event_id\" AS \"event_id\", \"e\".\"device_type\" AS \"device_type\" FROM \"e\" AS \"e\")) AS \"event_data\", JSON_EXTRACT_SCALAR(\"re\".\"payload\", \\'$.event_name\\') AS \"event_type\", ROW_TO_JSON(\"re\".*) AS \"raw_event_json\" FROM \"my_project\".\"raw\".\"raw_events\" AS \"re\"'\n",
    "\n",
    "formatted_s = sqlglot.transpile(s, pretty=True)[0]\n",
    "display(Code(formatted_s, language=\"sql\"))\n"
   ]
  },
  {
   "cell_type": "markdown",
   "id": "689f44a6",
   "metadata": {},
   "source": [
    "## WALK test"
   ]
  },
  {
   "cell_type": "code",
   "execution_count": null,
   "id": "109a39ac",
   "metadata": {},
   "outputs": [],
   "source": [
    "\n",
    "import sqlglot.lineage as lineage\n",
    "from sqlglot import exp\n",
    "\n",
    "parsed_sql = sqlglot.parse_one(sql, read=\"postgres\")\n",
    "qualified_sql = parsed_sql.qualify(schema=schema_map, dialect=\"postgres\", quote_identifiers=False)\n",
    "sql_query = optimize(qualified_sql)\n",
    "lineage_node = lineage.lineage(sql=sql_query, column='event_type', dialect=\"postgres\")\n"
   ]
  },
  {
   "cell_type": "markdown",
   "id": "9d239109",
   "metadata": {},
   "source": [
    "## Lineage Find test"
   ]
  },
  {
   "cell_type": "code",
   "execution_count": 241,
   "id": "d017527a",
   "metadata": {},
   "outputs": [
    {
     "data": {
      "text/html": [
       "<style>pre { line-height: 125%; }\n",
       "td.linenos .normal { color: inherit; background-color: transparent; padding-left: 5px; padding-right: 5px; }\n",
       "span.linenos { color: inherit; background-color: transparent; padding-left: 5px; padding-right: 5px; }\n",
       "td.linenos .special { color: #000000; background-color: #ffffc0; padding-left: 5px; padding-right: 5px; }\n",
       "span.linenos.special { color: #000000; background-color: #ffffc0; padding-left: 5px; padding-right: 5px; }\n",
       ".output_html .hll { background-color: #ffffcc }\n",
       ".output_html { background: #f8f8f8; }\n",
       ".output_html .c { color: #3D7B7B; font-style: italic } /* Comment */\n",
       ".output_html .err { border: 1px solid #FF0000 } /* Error */\n",
       ".output_html .k { color: #008000; font-weight: bold } /* Keyword */\n",
       ".output_html .o { color: #666666 } /* Operator */\n",
       ".output_html .ch { color: #3D7B7B; font-style: italic } /* Comment.Hashbang */\n",
       ".output_html .cm { color: #3D7B7B; font-style: italic } /* Comment.Multiline */\n",
       ".output_html .cp { color: #9C6500 } /* Comment.Preproc */\n",
       ".output_html .cpf { color: #3D7B7B; font-style: italic } /* Comment.PreprocFile */\n",
       ".output_html .c1 { color: #3D7B7B; font-style: italic } /* Comment.Single */\n",
       ".output_html .cs { color: #3D7B7B; font-style: italic } /* Comment.Special */\n",
       ".output_html .gd { color: #A00000 } /* Generic.Deleted */\n",
       ".output_html .ge { font-style: italic } /* Generic.Emph */\n",
       ".output_html .ges { font-weight: bold; font-style: italic } /* Generic.EmphStrong */\n",
       ".output_html .gr { color: #E40000 } /* Generic.Error */\n",
       ".output_html .gh { color: #000080; font-weight: bold } /* Generic.Heading */\n",
       ".output_html .gi { color: #008400 } /* Generic.Inserted */\n",
       ".output_html .go { color: #717171 } /* Generic.Output */\n",
       ".output_html .gp { color: #000080; font-weight: bold } /* Generic.Prompt */\n",
       ".output_html .gs { font-weight: bold } /* Generic.Strong */\n",
       ".output_html .gu { color: #800080; font-weight: bold } /* Generic.Subheading */\n",
       ".output_html .gt { color: #0044DD } /* Generic.Traceback */\n",
       ".output_html .kc { color: #008000; font-weight: bold } /* Keyword.Constant */\n",
       ".output_html .kd { color: #008000; font-weight: bold } /* Keyword.Declaration */\n",
       ".output_html .kn { color: #008000; font-weight: bold } /* Keyword.Namespace */\n",
       ".output_html .kp { color: #008000 } /* Keyword.Pseudo */\n",
       ".output_html .kr { color: #008000; font-weight: bold } /* Keyword.Reserved */\n",
       ".output_html .kt { color: #B00040 } /* Keyword.Type */\n",
       ".output_html .m { color: #666666 } /* Literal.Number */\n",
       ".output_html .s { color: #BA2121 } /* Literal.String */\n",
       ".output_html .na { color: #687822 } /* Name.Attribute */\n",
       ".output_html .nb { color: #008000 } /* Name.Builtin */\n",
       ".output_html .nc { color: #0000FF; font-weight: bold } /* Name.Class */\n",
       ".output_html .no { color: #880000 } /* Name.Constant */\n",
       ".output_html .nd { color: #AA22FF } /* Name.Decorator */\n",
       ".output_html .ni { color: #717171; font-weight: bold } /* Name.Entity */\n",
       ".output_html .ne { color: #CB3F38; font-weight: bold } /* Name.Exception */\n",
       ".output_html .nf { color: #0000FF } /* Name.Function */\n",
       ".output_html .nl { color: #767600 } /* Name.Label */\n",
       ".output_html .nn { color: #0000FF; font-weight: bold } /* Name.Namespace */\n",
       ".output_html .nt { color: #008000; font-weight: bold } /* Name.Tag */\n",
       ".output_html .nv { color: #19177C } /* Name.Variable */\n",
       ".output_html .ow { color: #AA22FF; font-weight: bold } /* Operator.Word */\n",
       ".output_html .w { color: #bbbbbb } /* Text.Whitespace */\n",
       ".output_html .mb { color: #666666 } /* Literal.Number.Bin */\n",
       ".output_html .mf { color: #666666 } /* Literal.Number.Float */\n",
       ".output_html .mh { color: #666666 } /* Literal.Number.Hex */\n",
       ".output_html .mi { color: #666666 } /* Literal.Number.Integer */\n",
       ".output_html .mo { color: #666666 } /* Literal.Number.Oct */\n",
       ".output_html .sa { color: #BA2121 } /* Literal.String.Affix */\n",
       ".output_html .sb { color: #BA2121 } /* Literal.String.Backtick */\n",
       ".output_html .sc { color: #BA2121 } /* Literal.String.Char */\n",
       ".output_html .dl { color: #BA2121 } /* Literal.String.Delimiter */\n",
       ".output_html .sd { color: #BA2121; font-style: italic } /* Literal.String.Doc */\n",
       ".output_html .s2 { color: #BA2121 } /* Literal.String.Double */\n",
       ".output_html .se { color: #AA5D1F; font-weight: bold } /* Literal.String.Escape */\n",
       ".output_html .sh { color: #BA2121 } /* Literal.String.Heredoc */\n",
       ".output_html .si { color: #A45A77; font-weight: bold } /* Literal.String.Interpol */\n",
       ".output_html .sx { color: #008000 } /* Literal.String.Other */\n",
       ".output_html .sr { color: #A45A77 } /* Literal.String.Regex */\n",
       ".output_html .s1 { color: #BA2121 } /* Literal.String.Single */\n",
       ".output_html .ss { color: #19177C } /* Literal.String.Symbol */\n",
       ".output_html .bp { color: #008000 } /* Name.Builtin.Pseudo */\n",
       ".output_html .fm { color: #0000FF } /* Name.Function.Magic */\n",
       ".output_html .vc { color: #19177C } /* Name.Variable.Class */\n",
       ".output_html .vg { color: #19177C } /* Name.Variable.Global */\n",
       ".output_html .vi { color: #19177C } /* Name.Variable.Instance */\n",
       ".output_html .vm { color: #19177C } /* Name.Variable.Magic */\n",
       ".output_html .il { color: #666666 } /* Literal.Number.Integer.Long */</style><div class=\"highlight\"><pre><span></span><span class=\"k\">WITH</span><span class=\"w\"> </span><span class=\"ss\">&quot;e&quot;</span><span class=\"w\"> </span><span class=\"k\">AS</span><span class=\"w\"> </span><span class=\"p\">(</span>\n",
       "<span class=\"w\">  </span><span class=\"k\">SELECT</span>\n",
       "<span class=\"w\">    </span><span class=\"ss\">&quot;re&quot;</span><span class=\"p\">.</span><span class=\"ss\">&quot;event_id&quot;</span><span class=\"w\"> </span><span class=\"k\">AS</span><span class=\"w\"> </span><span class=\"ss\">&quot;event_id&quot;</span><span class=\"p\">,</span>\n",
       "<span class=\"w\">    </span><span class=\"n\">JSON_EXTRACT_SCALAR</span><span class=\"p\">(</span><span class=\"ss\">&quot;re&quot;</span><span class=\"p\">.</span><span class=\"ss\">&quot;payload&quot;</span><span class=\"p\">,</span><span class=\"w\"> </span><span class=\"s1\">&#39;$.device_type&#39;</span><span class=\"p\">)</span><span class=\"w\"> </span><span class=\"k\">AS</span><span class=\"w\"> </span><span class=\"ss\">&quot;device_type&quot;</span>\n",
       "<span class=\"p\">)</span>\n",
       "<span class=\"k\">SELECT</span>\n",
       "<span class=\"w\">  </span><span class=\"k\">CAST</span><span class=\"p\">((</span>\n",
       "<span class=\"w\">    </span><span class=\"n\">JSON_EXTRACT_SCALAR</span><span class=\"p\">(</span><span class=\"ss\">&quot;re&quot;</span><span class=\"p\">.</span><span class=\"ss\">&quot;payload&quot;</span><span class=\"p\">,</span><span class=\"w\"> </span><span class=\"s1\">&#39;$.customer_id&#39;</span><span class=\"p\">)</span>\n",
       "<span class=\"w\">  </span><span class=\"p\">)</span><span class=\"w\"> </span><span class=\"k\">AS</span><span class=\"w\"> </span><span class=\"nb\">INT</span><span class=\"p\">)</span><span class=\"w\"> </span><span class=\"k\">AS</span><span class=\"w\"> </span><span class=\"ss\">&quot;customer_id&quot;</span><span class=\"p\">,</span>\n",
       "<span class=\"w\">  </span><span class=\"n\">ROW_TO_JSON</span><span class=\"p\">(</span>\n",
       "<span class=\"w\">    </span><span class=\"p\">(</span>\n",
       "<span class=\"w\">      </span><span class=\"k\">SELECT</span>\n",
       "<span class=\"w\">        </span><span class=\"ss\">&quot;e&quot;</span><span class=\"p\">.</span><span class=\"ss\">&quot;event_id&quot;</span><span class=\"w\"> </span><span class=\"k\">AS</span><span class=\"w\"> </span><span class=\"ss\">&quot;event_id&quot;</span><span class=\"p\">,</span>\n",
       "<span class=\"w\">        </span><span class=\"ss\">&quot;e&quot;</span><span class=\"p\">.</span><span class=\"ss\">&quot;device_type&quot;</span><span class=\"w\"> </span><span class=\"k\">AS</span><span class=\"w\"> </span><span class=\"ss\">&quot;device_type&quot;</span>\n",
       "<span class=\"w\">      </span><span class=\"k\">FROM</span><span class=\"w\"> </span><span class=\"ss\">&quot;e&quot;</span><span class=\"w\"> </span><span class=\"k\">AS</span><span class=\"w\"> </span><span class=\"ss\">&quot;e&quot;</span>\n",
       "<span class=\"w\">    </span><span class=\"p\">)</span>\n",
       "<span class=\"w\">  </span><span class=\"p\">)</span><span class=\"w\"> </span><span class=\"k\">AS</span><span class=\"w\"> </span><span class=\"ss\">&quot;event_data&quot;</span><span class=\"p\">,</span>\n",
       "<span class=\"w\">  </span><span class=\"n\">JSON_EXTRACT_SCALAR</span><span class=\"p\">(</span><span class=\"ss\">&quot;re&quot;</span><span class=\"p\">.</span><span class=\"ss\">&quot;payload&quot;</span><span class=\"p\">,</span><span class=\"w\"> </span><span class=\"s1\">&#39;$.event_name&#39;</span><span class=\"p\">)</span><span class=\"w\"> </span><span class=\"k\">AS</span><span class=\"w\"> </span><span class=\"ss\">&quot;event_type&quot;</span><span class=\"p\">,</span>\n",
       "<span class=\"w\">  </span><span class=\"n\">ROW_TO_JSON</span><span class=\"p\">(</span><span class=\"ss\">&quot;re&quot;</span><span class=\"p\">.</span><span class=\"o\">*</span><span class=\"p\">)</span><span class=\"w\"> </span><span class=\"k\">AS</span><span class=\"w\"> </span><span class=\"ss\">&quot;raw_event_json&quot;</span>\n",
       "<span class=\"k\">FROM</span><span class=\"w\"> </span><span class=\"ss\">&quot;my_project&quot;</span><span class=\"p\">.</span><span class=\"ss\">&quot;raw&quot;</span><span class=\"p\">.</span><span class=\"ss\">&quot;raw_events&quot;</span><span class=\"w\"> </span><span class=\"k\">AS</span><span class=\"w\"> </span><span class=\"ss\">&quot;re&quot;</span>\n",
       "</pre></div>\n"
      ],
      "text/latex": [
       "\\begin{Verbatim}[commandchars=\\\\\\{\\}]\n",
       "\\PY{k}{WITH}\\PY{+w}{ }\\PY{l+s+ss}{\\PYZdq{}e\\PYZdq{}}\\PY{+w}{ }\\PY{k}{AS}\\PY{+w}{ }\\PY{p}{(}\n",
       "\\PY{+w}{  }\\PY{k}{SELECT}\n",
       "\\PY{+w}{    }\\PY{l+s+ss}{\\PYZdq{}re\\PYZdq{}}\\PY{p}{.}\\PY{l+s+ss}{\\PYZdq{}event\\PYZus{}id\\PYZdq{}}\\PY{+w}{ }\\PY{k}{AS}\\PY{+w}{ }\\PY{l+s+ss}{\\PYZdq{}event\\PYZus{}id\\PYZdq{}}\\PY{p}{,}\n",
       "\\PY{+w}{    }\\PY{n}{JSON\\PYZus{}EXTRACT\\PYZus{}SCALAR}\\PY{p}{(}\\PY{l+s+ss}{\\PYZdq{}re\\PYZdq{}}\\PY{p}{.}\\PY{l+s+ss}{\\PYZdq{}payload\\PYZdq{}}\\PY{p}{,}\\PY{+w}{ }\\PY{l+s+s1}{\\PYZsq{}\\PYZdl{}.device\\PYZus{}type\\PYZsq{}}\\PY{p}{)}\\PY{+w}{ }\\PY{k}{AS}\\PY{+w}{ }\\PY{l+s+ss}{\\PYZdq{}device\\PYZus{}type\\PYZdq{}}\n",
       "\\PY{p}{)}\n",
       "\\PY{k}{SELECT}\n",
       "\\PY{+w}{  }\\PY{k}{CAST}\\PY{p}{(}\\PY{p}{(}\n",
       "\\PY{+w}{    }\\PY{n}{JSON\\PYZus{}EXTRACT\\PYZus{}SCALAR}\\PY{p}{(}\\PY{l+s+ss}{\\PYZdq{}re\\PYZdq{}}\\PY{p}{.}\\PY{l+s+ss}{\\PYZdq{}payload\\PYZdq{}}\\PY{p}{,}\\PY{+w}{ }\\PY{l+s+s1}{\\PYZsq{}\\PYZdl{}.customer\\PYZus{}id\\PYZsq{}}\\PY{p}{)}\n",
       "\\PY{+w}{  }\\PY{p}{)}\\PY{+w}{ }\\PY{k}{AS}\\PY{+w}{ }\\PY{n+nb}{INT}\\PY{p}{)}\\PY{+w}{ }\\PY{k}{AS}\\PY{+w}{ }\\PY{l+s+ss}{\\PYZdq{}customer\\PYZus{}id\\PYZdq{}}\\PY{p}{,}\n",
       "\\PY{+w}{  }\\PY{n}{ROW\\PYZus{}TO\\PYZus{}JSON}\\PY{p}{(}\n",
       "\\PY{+w}{    }\\PY{p}{(}\n",
       "\\PY{+w}{      }\\PY{k}{SELECT}\n",
       "\\PY{+w}{        }\\PY{l+s+ss}{\\PYZdq{}e\\PYZdq{}}\\PY{p}{.}\\PY{l+s+ss}{\\PYZdq{}event\\PYZus{}id\\PYZdq{}}\\PY{+w}{ }\\PY{k}{AS}\\PY{+w}{ }\\PY{l+s+ss}{\\PYZdq{}event\\PYZus{}id\\PYZdq{}}\\PY{p}{,}\n",
       "\\PY{+w}{        }\\PY{l+s+ss}{\\PYZdq{}e\\PYZdq{}}\\PY{p}{.}\\PY{l+s+ss}{\\PYZdq{}device\\PYZus{}type\\PYZdq{}}\\PY{+w}{ }\\PY{k}{AS}\\PY{+w}{ }\\PY{l+s+ss}{\\PYZdq{}device\\PYZus{}type\\PYZdq{}}\n",
       "\\PY{+w}{      }\\PY{k}{FROM}\\PY{+w}{ }\\PY{l+s+ss}{\\PYZdq{}e\\PYZdq{}}\\PY{+w}{ }\\PY{k}{AS}\\PY{+w}{ }\\PY{l+s+ss}{\\PYZdq{}e\\PYZdq{}}\n",
       "\\PY{+w}{    }\\PY{p}{)}\n",
       "\\PY{+w}{  }\\PY{p}{)}\\PY{+w}{ }\\PY{k}{AS}\\PY{+w}{ }\\PY{l+s+ss}{\\PYZdq{}event\\PYZus{}data\\PYZdq{}}\\PY{p}{,}\n",
       "\\PY{+w}{  }\\PY{n}{JSON\\PYZus{}EXTRACT\\PYZus{}SCALAR}\\PY{p}{(}\\PY{l+s+ss}{\\PYZdq{}re\\PYZdq{}}\\PY{p}{.}\\PY{l+s+ss}{\\PYZdq{}payload\\PYZdq{}}\\PY{p}{,}\\PY{+w}{ }\\PY{l+s+s1}{\\PYZsq{}\\PYZdl{}.event\\PYZus{}name\\PYZsq{}}\\PY{p}{)}\\PY{+w}{ }\\PY{k}{AS}\\PY{+w}{ }\\PY{l+s+ss}{\\PYZdq{}event\\PYZus{}type\\PYZdq{}}\\PY{p}{,}\n",
       "\\PY{+w}{  }\\PY{n}{ROW\\PYZus{}TO\\PYZus{}JSON}\\PY{p}{(}\\PY{l+s+ss}{\\PYZdq{}re\\PYZdq{}}\\PY{p}{.}\\PY{o}{*}\\PY{p}{)}\\PY{+w}{ }\\PY{k}{AS}\\PY{+w}{ }\\PY{l+s+ss}{\\PYZdq{}raw\\PYZus{}event\\PYZus{}json\\PYZdq{}}\n",
       "\\PY{k}{FROM}\\PY{+w}{ }\\PY{l+s+ss}{\\PYZdq{}my\\PYZus{}project\\PYZdq{}}\\PY{p}{.}\\PY{l+s+ss}{\\PYZdq{}raw\\PYZdq{}}\\PY{p}{.}\\PY{l+s+ss}{\\PYZdq{}raw\\PYZus{}events\\PYZdq{}}\\PY{+w}{ }\\PY{k}{AS}\\PY{+w}{ }\\PY{l+s+ss}{\\PYZdq{}re\\PYZdq{}}\n",
       "\\end{Verbatim}\n"
      ],
      "text/plain": [
       "WITH \"e\" AS (\n",
       "  SELECT\n",
       "    \"re\".\"event_id\" AS \"event_id\",\n",
       "    JSON_EXTRACT_SCALAR(\"re\".\"payload\", '$.device_type') AS \"device_type\"\n",
       ")\n",
       "SELECT\n",
       "  CAST((\n",
       "    JSON_EXTRACT_SCALAR(\"re\".\"payload\", '$.customer_id')\n",
       "  ) AS INT) AS \"customer_id\",\n",
       "  ROW_TO_JSON(\n",
       "    (\n",
       "      SELECT\n",
       "        \"e\".\"event_id\" AS \"event_id\",\n",
       "        \"e\".\"device_type\" AS \"device_type\"\n",
       "      FROM \"e\" AS \"e\"\n",
       "    )\n",
       "  ) AS \"event_data\",\n",
       "  JSON_EXTRACT_SCALAR(\"re\".\"payload\", '$.event_name') AS \"event_type\",\n",
       "  ROW_TO_JSON(\"re\".*) AS \"raw_event_json\"\n",
       "FROM \"my_project\".\"raw\".\"raw_events\" AS \"re\""
      ]
     },
     "metadata": {},
     "output_type": "display_data"
    }
   ],
   "source": [
    "sql = \"\"\"\n",
    "SELECT (re.payload ->> 'customer_id')::INTEGER AS customer_id, row_to_json((SELECT e.* FROM (SELECT re.event_id, re.payload ->> 'device_type' AS device_type) AS e)) AS event_data, re.payload ->> 'event_name' AS event_type, row_to_json(re.*) AS raw_event_json FROM my_project.raw.raw_events AS re\n",
    "\"\"\"\n",
    "\n",
    "parsed_sql = sqlglot.parse_one(sql, read=\"postgres\")\n",
    "qualified_sql = parsed_sql.qualify(schema=schema_map, dialect=\"postgres\", quote_identifiers=False)\n",
    "sql_query = optimize(qualified_sql)\n",
    "\n",
    "from IPython.display import display, Code\n",
    "\n",
    "formatted_s = sqlglot.transpile(sql_query.sql(), pretty=True)[0]\n",
    "display(Code(formatted_s, language=\"sql\"))\n",
    "\n"
   ]
  },
  {
   "cell_type": "code",
   "execution_count": null,
   "id": "633bf3a9",
   "metadata": {},
   "outputs": [],
   "source": [
    "expr = sql_query\n",
    "\n",
    "table_alias_map = {}\n",
    "for table in expr.find_all(exp.Table):\n",
    "    if table.catalog and table.db:\n",
    "        table_alias_map.update({table.alias: f\"{table.catalog}.{table.db}.{table.name}\"})\n",
    "\n",
    "table_alias_map"
   ]
  },
  {
   "cell_type": "code",
   "execution_count": null,
   "id": "1708da54",
   "metadata": {},
   "outputs": [],
   "source": [
    "expr = lineage_node.source\n",
    "\n",
    "table_alias_map = {}\n",
    "for table in expr.find_all(exp.Table):\n",
    "    if table.catalog and table.db:\n",
    "        table_alias_map.update({table.alias: f\"{table.catalog}.{table.db}.{table.name}\"})\n",
    "\n",
    "table_alias_map"
   ]
  },
  {
   "cell_type": "code",
   "execution_count": null,
   "id": "0ca105b2",
   "metadata": {},
   "outputs": [],
   "source": [
    "lineage_node.source.find(exp.Table)"
   ]
  },
  {
   "cell_type": "code",
   "execution_count": null,
   "id": "ce96b87d",
   "metadata": {},
   "outputs": [],
   "source": [
    "dir(lineage_node.downstream[0].expression.find(exp.Table))\n"
   ]
  },
  {
   "cell_type": "code",
   "execution_count": 246,
   "id": "1dbfd0fe",
   "metadata": {},
   "outputs": [
    {
     "name": "stdout",
     "output_type": "stream",
     "text": [
      "{\n",
      "    \"my_project.raw.raw_customers\": \"source.my_project.raw.raw_customers\",\n",
      "    \"my_project.raw.raw_events\": \"source.my_project.raw.raw_events\",\n",
      "    \"my_project.staging.stg_customers\": \"model.my_project.stg_customers\",\n",
      "    \"my_project.staging.stg_events\": \"model.my_project.stg_events\",\n",
      "    \"my_project.analytics.customers\": \"model.my_project.customers\",\n",
      "    \"my_project.analytics.customer_summary\": \"model.my_project.customer_summary\"\n",
      "}\n"
     ]
    }
   ],
   "source": [
    "print(json.dumps({'my_project.raw.raw_customers': 'source.my_project.raw.raw_customers', 'my_project.raw.raw_events': 'source.my_project.raw.raw_events', 'my_project.staging.stg_customers': 'model.my_project.stg_customers', 'my_project.staging.stg_events': 'model.my_project.stg_events', 'my_project.analytics.customers': 'model.my_project.customers', 'my_project.analytics.customer_summary': 'model.my_project.customer_summary'}, indent=4))"
   ]
  },
  {
   "cell_type": "code",
   "execution_count": null,
   "id": "fcb08e88",
   "metadata": {},
   "outputs": [],
   "source": [
    "\n",
    "\n",
    "\n",
    "def look_for_group_by_expr(parent_node):\n",
    "    \"\"\"TODO\n",
    "    find a way to get catalog and db of columns used in group bys \n",
    "    \"\"\"\n",
    "    sources = set()\n",
    "    expres_op_group = [op_exp for op, op_exp in parent_node.source.parent_select.hashable_args if op == 'group'] ## single item\n",
    "    if(expres_op_group):\n",
    "        expres_op_group = expres_op_group[0]\n",
    "        for op in expres_op_group:\n",
    "            while(not isinstance(op, exp.Column)):\n",
    "                op = op.this\n",
    "            group_by_column, group_by_table = op.name, op.table\n",
    "            sources.update({f\"{group_by_table}.{group_by_column}\"})\n",
    "    return sources\n",
    "\n",
    "\n",
    "\n",
    "elif isinstance(parent_node.expression, exp.Table): # or isinstance(parent_node.source, exp.Table)\n",
    "        # Final instance, resolving column name and table         \n",
    "        from_column_name = parent_node.name.split('.')[-1]\n",
    "        from_catalog = parent_node.expression.catalog ## expression ou source; Possible to get table alias from parent_node.expression.alias\n",
    "        from_schema = parent_node.expression.db\n",
    "        from_table_name = parent_node.expression.name\n",
    "        from_full_tablename = f\"{from_catalog}.{from_schema}.{from_table_name}\"\n",
    "\n",
    "        ## TODO add columns used in group by to lineage?\n",
    "        # assuming all group by from a single table, change that \n",
    "        # group_by_columns = look_for_group_by_expr(parent_node) \n",
    "        # if(group_by_columns):\n",
    "        #     sources.update(group_by_columns)\n",
    "\n",
    "        parent_model_id = schema_map.get(from_full_tablename.lower())\n",
    "        sources.update({f\"{parent_model_id}.{from_column_name}\"})\n"
   ]
  }
 ],
 "metadata": {
  "kernelspec": {
   "display_name": "data-lineage-ui",
   "language": "python",
   "name": "python3"
  },
  "language_info": {
   "codemirror_mode": {
    "name": "ipython",
    "version": 3
   },
   "file_extension": ".py",
   "mimetype": "text/x-python",
   "name": "python",
   "nbconvert_exporter": "python",
   "pygments_lexer": "ipython3",
   "version": "3.12.3"
  }
 },
 "nbformat": 4,
 "nbformat_minor": 5
}
